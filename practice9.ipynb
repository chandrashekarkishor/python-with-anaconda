{
 "cells": [
  {
   "cell_type": "code",
   "execution_count": 19,
   "metadata": {},
   "outputs": [],
   "source": [
    "def counter(fun):\n",
    "    cnt = 0\n",
    "    def fn(*args , **kwargs):\n",
    "        nonlocal cnt\n",
    "        cnt+=1\n",
    "        return(fun(*args,**kwargs),cnt)\n",
    "    return (fn)\n",
    "        "
   ]
  },
  {
   "cell_type": "code",
   "execution_count": 29,
   "metadata": {},
   "outputs": [],
   "source": [
    "@ counter\n",
    "def my_func(a,b):\n",
    "    return(a,b,a*b)\n",
    "    "
   ]
  },
  {
   "cell_type": "code",
   "execution_count": 32,
   "metadata": {},
   "outputs": [
    {
     "data": {
      "text/plain": [
       "((2, 3, 6), 3)"
      ]
     },
     "execution_count": 32,
     "metadata": {},
     "output_type": "execute_result"
    }
   ],
   "source": [
    "my_func(2,3)"
   ]
  },
  {
   "cell_type": "code",
   "execution_count": 33,
   "metadata": {},
   "outputs": [],
   "source": [
    "from functools import reduce"
   ]
  },
  {
   "cell_type": "code",
   "execution_count": null,
   "metadata": {},
   "outputs": [],
   "source": []
  },
  {
   "cell_type": "code",
   "execution_count": 6,
   "metadata": {
    "scrolled": true
   },
   "outputs": [
    {
     "name": "stdout",
     "output_type": "stream",
     "text": [
      "10\n",
      "0 1 2 3 4 5 6 7 8 9\n",
      "15\n",
      "remove 1\n",
      "pop\n",
      "pop\n",
      "discard 2\n",
      "discard 3\n",
      "discard 4\n",
      "discard 1\n",
      "remove 5\n",
      "pop\n",
      "discard 6\n",
      "discard 1\n",
      "discard 8\n",
      "discard 0\n",
      "discard 9\n",
      "pop\n",
      "\n"
     ]
    }
   ],
   "source": [
    "n = int(input())\n",
    "s = set(map(int, input().split()))\n",
    "\n",
    "def fn_per(fn,a,*args):\n",
    "    a.fn(*args)\n",
    "\n",
    "for _ in range(int(input())):\n",
    "    b = input().split()\n",
    "    if 'pop' in b:\n",
    "        s.pop()\n",
    "    if 'remove' in b:\n",
    "        s.remove(int(b[1]))\n",
    "    if 'discard' in b:\n",
    "        s.discard(int(b[1]))\n",
    "print(*s if s ,sep = '\\n',end = '\\n')"
   ]
  },
  {
   "cell_type": "raw",
   "metadata": {},
   "source": [
    "\n",
    "10\n",
    "0 1 2 3 4 5 6 7 8 9\n",
    "15\n",
    "remove 1\n",
    "pop\n",
    "pop\n",
    "discard 2\n",
    "discard 3\n",
    "discard 4\n",
    "discard 1\n",
    "remove 5\n",
    "pop\n",
    "discard 6\n",
    "discard 1\n",
    "discard 8\n",
    "discard 0\n",
    "discard 9\n",
    "pop"
   ]
  },
  {
   "cell_type": "code",
   "execution_count": 7,
   "metadata": {},
   "outputs": [
    {
     "name": "stdout",
     "output_type": "stream",
     "text": [
      "10\n",
      "0 1 2 3 4 5 6 7 8 9\n",
      "15\n",
      "remove 1\n",
      "pop\n",
      "pop\n",
      "discard 2\n",
      "discard 3\n",
      "discard 4\n",
      "discard 1\n",
      "remove 5\n",
      "pop\n",
      "discard 6\n",
      "discard 1\n",
      "discard 8\n",
      "discard 0\n",
      "discard 9\n",
      "pop\n"
     ]
    },
    {
     "ename": "TypeError",
     "evalue": "print() argument after * must be an iterable, not int",
     "output_type": "error",
     "traceback": [
      "\u001b[1;31m---------------------------------------------------------------------------\u001b[0m",
      "\u001b[1;31mTypeError\u001b[0m                                 Traceback (most recent call last)",
      "\u001b[1;32m<ipython-input-7-5e997eac4503>\u001b[0m in \u001b[0;36m<module>\u001b[1;34m\u001b[0m\n\u001b[0;32m     13\u001b[0m     \u001b[0ms\u001b[0m\u001b[1;33m.\u001b[0m\u001b[0mdiscard\u001b[0m\u001b[1;33m(\u001b[0m\u001b[0mint\u001b[0m\u001b[1;33m(\u001b[0m\u001b[0mb\u001b[0m\u001b[1;33m[\u001b[0m\u001b[1;36m1\u001b[0m\u001b[1;33m]\u001b[0m\u001b[1;33m)\u001b[0m\u001b[1;33m)\u001b[0m \u001b[1;32mif\u001b[0m \u001b[1;34m'discard'\u001b[0m \u001b[1;32min\u001b[0m \u001b[0mb\u001b[0m \u001b[1;32melse\u001b[0m \u001b[1;36m0\u001b[0m\u001b[1;33m\u001b[0m\u001b[1;33m\u001b[0m\u001b[0m\n\u001b[0;32m     14\u001b[0m \u001b[1;33m\u001b[0m\u001b[0m\n\u001b[1;32m---> 15\u001b[1;33m \u001b[0mprint\u001b[0m\u001b[1;33m(\u001b[0m\u001b[1;33m*\u001b[0m\u001b[0ms\u001b[0m \u001b[1;32mif\u001b[0m \u001b[0ms\u001b[0m \u001b[1;32melse\u001b[0m \u001b[1;36m0\u001b[0m\u001b[1;33m)\u001b[0m\u001b[1;33m\u001b[0m\u001b[1;33m\u001b[0m\u001b[0m\n\u001b[0m",
      "\u001b[1;31mTypeError\u001b[0m: print() argument after * must be an iterable, not int"
     ]
    }
   ],
   "source": [
    "n = int(input())\n",
    "s = set(map(int, input().split()))\n",
    "\n",
    "def fn_per(fn,a,*args):\n",
    "    a.fn(*args)\n",
    "\n",
    "for _ in range(int(input())):\n",
    "    b = input().split()\n",
    "    s.pop() if 'pop' in b else 0\n",
    "        \n",
    "    s.remove(int(b[1])) if 'remove' in b else 0\n",
    "        \n",
    "    s.discard(int(b[1])) if 'discard' in b else 0\n",
    "        \n",
    "print(*s if s else 0)\n"
   ]
  },
  {
   "cell_type": "code",
   "execution_count": 33,
   "metadata": {},
   "outputs": [],
   "source": [
    "a = (0, 1, 2, 3, 4, 5, 6, 7, 8, 9)\n",
    "a = set(a)"
   ]
  },
  {
   "cell_type": "code",
   "execution_count": 34,
   "metadata": {},
   "outputs": [],
   "source": [
    "a.remove(1)\n",
    "a.discard(1)\n",
    "a.pop()\n",
    "a.pop()\n",
    "a.discard(1)\n",
    "a.discard(2)\n",
    "a.discard(3)\n",
    "a.discard(2)\n",
    "a.remove(6)\n",
    "a.pop()\n",
    "a.discard(6)\n",
    "a.discard(1)\n",
    "a.discard(8)\n",
    "a.discard(2)\n",
    "a.pop()\n",
    "a.discard(1)\n",
    "a.discard(8)\n",
    "a.discard(3)\n",
    "a.discard(1)\n",
    "a.discard(0)"
   ]
  },
  {
   "cell_type": "code",
   "execution_count": 35,
   "metadata": {},
   "outputs": [
    {
     "data": {
      "text/plain": [
       "{7, 9}"
      ]
     },
     "execution_count": 35,
     "metadata": {},
     "output_type": "execute_result"
    }
   ],
   "source": [
    "a"
   ]
  },
  {
   "cell_type": "code",
   "execution_count": 22,
   "metadata": {},
   "outputs": [
    {
     "data": {
      "text/plain": [
       "<function set.pop>"
      ]
     },
     "execution_count": 22,
     "metadata": {},
     "output_type": "execute_result"
    }
   ],
   "source": []
  },
  {
   "cell_type": "code",
   "execution_count": 23,
   "metadata": {},
   "outputs": [
    {
     "data": {
      "text/plain": [
       "{0, 2, 3, 4, 5, 6, 7, 8, 9}"
      ]
     },
     "execution_count": 23,
     "metadata": {},
     "output_type": "execute_result"
    }
   ],
   "source": [
    "a"
   ]
  },
  {
   "cell_type": "code",
   "execution_count": null,
   "metadata": {},
   "outputs": [],
   "source": []
  }
 ],
 "metadata": {
  "kernelspec": {
   "display_name": "Python 3",
   "language": "python",
   "name": "python3"
  },
  "language_info": {
   "codemirror_mode": {
    "name": "ipython",
    "version": 3
   },
   "file_extension": ".py",
   "mimetype": "text/x-python",
   "name": "python",
   "nbconvert_exporter": "python",
   "pygments_lexer": "ipython3",
   "version": "3.7.3"
  }
 },
 "nbformat": 4,
 "nbformat_minor": 2
}
