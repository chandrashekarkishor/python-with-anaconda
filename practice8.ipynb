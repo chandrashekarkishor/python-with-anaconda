{
 "cells": [
  {
   "cell_type": "markdown",
   "metadata": {},
   "source": [
    "### defaultdict"
   ]
  },
  {
   "cell_type": "code",
   "execution_count": null,
   "metadata": {},
   "outputs": [],
   "source": [
    "from collections import defaultdict\n",
    "d = defaultdict(list)\n",
    "n,m = map(int,input().split())\n",
    "for i in range(n):\n",
    "    N = input()\n",
    "    d[N].append(i+1)\n",
    "for _ in range(m):\n",
    "    M = input()\n",
    "    if M in d:\n",
    "        print(*d[M])\n",
    "    else:\n",
    "        print(-1)"
   ]
  },
  {
   "cell_type": "code",
   "execution_count": null,
   "metadata": {},
   "outputs": [],
   "source": [
    "d['c']"
   ]
  },
  {
   "cell_type": "code",
   "execution_count": null,
   "metadata": {},
   "outputs": [],
   "source": []
  },
  {
   "cell_type": "code",
   "execution_count": null,
   "metadata": {},
   "outputs": [],
   "source": [
    "from collections import deque\n",
    "d = deque()\n",
    "for _ in range(int(input())):\n",
    "    fn = input().split()\n",
    "    if len(fn) == 1:\n",
    "        if 'pop' in fn:\n",
    "            d.pop()\n",
    "        else:\n",
    "            d.popleft()\n",
    "    if len(fn) == 2:\n",
    "        if fn[0] == 'append':\n",
    "            d.append(int(fn[1]))\n",
    "        else:\n",
    "            d.appendleft(int(fn[1]))\n",
    "print(*d)"
   ]
  },
  {
   "cell_type": "code",
   "execution_count": null,
   "metadata": {},
   "outputs": [],
   "source": [
    "from collections import deque\n",
    "d = deque()\n",
    "d.extend([1,2,3,4])"
   ]
  },
  {
   "cell_type": "code",
   "execution_count": null,
   "metadata": {},
   "outputs": [],
   "source": [
    "d.popleft()"
   ]
  },
  {
   "cell_type": "code",
   "execution_count": null,
   "metadata": {},
   "outputs": [],
   "source": []
  },
  {
   "cell_type": "markdown",
   "metadata": {},
   "source": [
    "### piling up"
   ]
  },
  {
   "cell_type": "code",
   "execution_count": null,
   "metadata": {},
   "outputs": [],
   "source": [
    "for _ in range(int(input())):\n",
    "    n = int(input())\n",
    "    tin = 99999999999\n",
    "    ll = list(map(int,input().split()))\n",
    "    while(len(ll)>1):\n",
    "        if ll[0] >=ll[-1] and tin>=ll[0]:\n",
    "            tin = ll.pop(0)\n",
    "        elif ll[-1] >=ll[0] and tin>=ll[-1]:\n",
    "            tin = ll.pop()\n",
    "        else:\n",
    "            print(\"No\")\n",
    "            break\n",
    "    else:\n",
    "        if ll.pop() <= tin:\n",
    "            print(\"Yes\")\n",
    "        else:\n",
    "            print(\"No\")"
   ]
  },
  {
   "cell_type": "markdown",
   "metadata": {},
   "source": [
    "### company logo"
   ]
  },
  {
   "cell_type": "code",
   "execution_count": null,
   "metadata": {},
   "outputs": [],
   "source": [
    "import collections\n",
    "s = input()\n",
    "ss = collections.Counter(s)\n",
    "sss = sorted(ss, key = lambda x: ss[x]-((ord(x))/100))\n",
    "sss.reverse()\n",
    "for i in sss:\n",
    "    print(i,ss[i])"
   ]
  },
  {
   "cell_type": "code",
   "execution_count": null,
   "metadata": {},
   "outputs": [],
   "source": [
    "int('a')"
   ]
  },
  {
   "cell_type": "markdown",
   "metadata": {},
   "source": [
    "### picking numbers"
   ]
  },
  {
   "cell_type": "code",
   "execution_count": null,
   "metadata": {},
   "outputs": [],
   "source": [
    "a = [4, 6, 5, 3, 3, 1]"
   ]
  },
  {
   "cell_type": "code",
   "execution_count": null,
   "metadata": {},
   "outputs": [],
   "source": [
    "from collections import Counter\n",
    "b = Counter(a)\n",
    "ll= []\n",
    "for i in b:\n",
    "    if i+1 in s:\n",
    "        ll.append(b[i]+b[i+1])\n",
    "    else:\n",
    "        ll.append(b[i])\n",
    "print(max(ll))"
   ]
  },
  {
   "cell_type": "code",
   "execution_count": null,
   "metadata": {},
   "outputs": [],
   "source": [
    "b"
   ]
  },
  {
   "cell_type": "code",
   "execution_count": null,
   "metadata": {},
   "outputs": [],
   "source": [
    "ll"
   ]
  },
  {
   "cell_type": "markdown",
   "metadata": {},
   "source": [
    "### climbing the leaderboard"
   ]
  },
  {
   "cell_type": "code",
   "execution_count": null,
   "metadata": {},
   "outputs": [],
   "source": [
    "scores = [100, 90, 90, 80, 75, 60]\n",
    "alice = [50, 65, 77, 90, 102]"
   ]
  },
  {
   "cell_type": "code",
   "execution_count": null,
   "metadata": {
    "scrolled": true
   },
   "outputs": [],
   "source": [
    "import time\n",
    "s = time.time()\n",
    "\n",
    "scores = set(scores)\n",
    "scores = sorted(scores)\n",
    "sc = []\n",
    "for i in alice:\n",
    "    scores.append(i)\n",
    "    scores.sort(reverse=True)\n",
    "    ii = scores.index(i)\n",
    "    sc.append(ii+1)\n",
    "    del scores[ii]\n",
    "print(sc)\n",
    "    \n",
    "print(time.time()-s,\"sec\")"
   ]
  },
  {
   "cell_type": "markdown",
   "metadata": {},
   "source": [
    "``0.0009765625 sec``"
   ]
  },
  {
   "cell_type": "code",
   "execution_count": null,
   "metadata": {},
   "outputs": [],
   "source": [
    "s = {1,2,3,5,3,8,5,6,7}"
   ]
  },
  {
   "cell_type": "code",
   "execution_count": null,
   "metadata": {},
   "outputs": [],
   "source": [
    "s.add(4)"
   ]
  },
  {
   "cell_type": "code",
   "execution_count": null,
   "metadata": {},
   "outputs": [],
   "source": [
    "s.remove(4)"
   ]
  },
  {
   "cell_type": "code",
   "execution_count": 44,
   "metadata": {},
   "outputs": [],
   "source": [
    "scores = [100, 90, 90, 80, 75, 60]\n",
    "alice = [50, 65, 77, 90, 102]"
   ]
  },
  {
   "cell_type": "code",
   "execution_count": 45,
   "metadata": {},
   "outputs": [
    {
     "name": "stdout",
     "output_type": "stream",
     "text": [
      "60 75\n",
      "75 80\n",
      "80 90\n",
      "90 100\n",
      "[6, 5, 4, 3, 3, 2]\n",
      "0.0009462833404541016 sec\n"
     ]
    }
   ],
   "source": [
    "import time\n",
    "s = time.time()\n",
    "\n",
    "c = []\n",
    "ll = scores[-1]\n",
    "l = len(set(scores))+1\n",
    "for x in alice:\n",
    "    while(scores):\n",
    "        la = scores.pop()\n",
    "        if ll !=la:\n",
    "            print(ll,la)\n",
    "            ll = la\n",
    "            l-=1\n",
    "        if x < la:\n",
    "            c.append(l)\n",
    "print(c)\n",
    "        \n",
    "print(time.time()-s,\"sec\")"
   ]
  },
  {
   "cell_type": "code",
   "execution_count": null,
   "metadata": {},
   "outputs": [],
   "source": []
  },
  {
   "cell_type": "code",
   "execution_count": null,
   "metadata": {},
   "outputs": [],
   "source": []
  }
 ],
 "metadata": {
  "kernelspec": {
   "display_name": "Python 3",
   "language": "python",
   "name": "python3"
  },
  "language_info": {
   "codemirror_mode": {
    "name": "ipython",
    "version": 3
   },
   "file_extension": ".py",
   "mimetype": "text/x-python",
   "name": "python",
   "nbconvert_exporter": "python",
   "pygments_lexer": "ipython3",
   "version": "3.7.3"
  }
 },
 "nbformat": 4,
 "nbformat_minor": 2
}
