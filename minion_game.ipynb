{
 "cells": [
  {
   "cell_type": "code",
   "execution_count": null,
   "metadata": {},
   "outputs": [],
   "source": [
    "def minion_game(string):\n",
    "    klist=slist=0\n",
    "    vowel='AEIOU'\n",
    "    for x in range(len(string)):\n",
    "        if string[x] in vowel:\n",
    "            klist += len(string)-x\n",
    "        elif string[x] not in vowel:\n",
    "            slist += len(string)-x\n",
    "    if klist>slist:\n",
    "        print(\"Kevin\",klist)\n",
    "    elif slist>klist:\n",
    "        print(\"Stuart\",slist)\n",
    "    else:\n",
    "        print('Draw')\n",
    "    \n",
    "\n",
    "if __name__ == '__main__':\n",
    "    s = input()\n",
    "    minion_game(s)"
   ]
  }
 ],
 "metadata": {
  "kernelspec": {
   "display_name": "Python 3",
   "language": "python",
   "name": "python3"
  },
  "language_info": {
   "codemirror_mode": {
    "name": "ipython",
    "version": 3
   },
   "file_extension": ".py",
   "mimetype": "text/x-python",
   "name": "python",
   "nbconvert_exporter": "python",
   "pygments_lexer": "ipython3",
   "version": "3.7.3"
  }
 },
 "nbformat": 4,
 "nbformat_minor": 2
}
