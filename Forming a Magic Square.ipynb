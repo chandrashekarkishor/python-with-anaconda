{
 "cells": [
  {
   "cell_type": "markdown",
   "metadata": {},
   "source": [
    "## Forming a Magic Square   M = n(n^2+1)/2"
   ]
  },
  {
   "cell_type": "code",
   "execution_count": 26,
   "metadata": {},
   "outputs": [],
   "source": [
    "s = [[4,8,2],\n",
    "     [4,5,7],\n",
    "     [6,1,6]]"
   ]
  },
  {
   "cell_type": "code",
   "execution_count": 27,
   "metadata": {},
   "outputs": [],
   "source": [
    "def get_index(x):\n",
    "    ss =[[],[]]\n",
    "    for i in range(3):\n",
    "        ss[0].append(sum(s[i]))\n",
    "    for i in range(3):\n",
    "        ss[1].append(sum([s[0][i],s[1][i],s[2][i]]))\n",
    "    return (ss)"
   ]
  },
  {
   "cell_type": "code",
   "execution_count": 28,
   "metadata": {},
   "outputs": [],
   "source": [
    "def mapping(s,ss):\n",
    "    for i in range(3):\n",
    "        if (ss[0][i] == ss[1][i]) and (ss[0][i] != 15):\n",
    "            s[i][i] -= ss[0][i] - 15\n",
    "            ss[0][i] = ss[1][i] = 15"
   ]
  },
  {
   "cell_type": "code",
   "execution_count": 30,
   "metadata": {},
   "outputs": [
    {
     "name": "stdout",
     "output_type": "stream",
     "text": [
      "s [[4, 8, 2], [4, 5, 7], [6, 1, 6]]\n",
      "[[14, 16, 13], [14, 14, 15]]\n",
      "[[14, 16, 13], [14, 14, 15]]\n"
     ]
    }
   ],
   "source": [
    "print(\"s\",s)\n",
    "ss = get_index(s)\n",
    "print(ss)\n",
    "while (ss[0] == ss[1] == [15,15,15]):\n",
    "    mapping(s,ss)\n",
    "    for i in range(3):\n",
    "        if ss[0][i] != 15:\n",
    "            if ss[1][0] !=15 and abs(ss[0][i] - ss[1][0]) in ss[0]:\n",
    "                s[i][0] -= ss[0][i]-15 \n",
    "                \n",
    "            if ss[1][1] !=15 and abs(ss[0][i] - ss[1][1]) in ss[0]:\n",
    "                s[i][1] -= ss[0][i]-15 \n",
    "                \n",
    "            if ss[1][1] !=15 and abs(ss[0][i] - ss[1][2]) in ss[0]:\n",
    "                s[i][2] -= ss[0][i]-15\n",
    "        mapping(s,ss)\n",
    "        ss = get_index(s)\n",
    "print(ss)\n",
    "\n"
   ]
  },
  {
   "cell_type": "code",
   "execution_count": 4,
   "metadata": {},
   "outputs": [],
   "source": [
    "a= [1,1,1]"
   ]
  },
  {
   "cell_type": "code",
   "execution_count": 6,
   "metadata": {},
   "outputs": [
    {
     "data": {
      "text/plain": [
       "True"
      ]
     },
     "execution_count": 6,
     "metadata": {},
     "output_type": "execute_result"
    }
   ],
   "source": [
    "a == [1,1,1]"
   ]
  },
  {
   "cell_type": "code",
   "execution_count": null,
   "metadata": {},
   "outputs": [],
   "source": [
    "s = [[4,8,2],\n",
    "     [4,5,7],\n",
    "     [6,1,6]]"
   ]
  },
  {
   "cell_type": "code",
   "execution_count": 98,
   "metadata": {},
   "outputs": [],
   "source": [
    "s = [[4,8,2],\n",
    "     [4,5,7],\n",
    "     [6,1,6]]"
   ]
  },
  {
   "cell_type": "code",
   "execution_count": 99,
   "metadata": {},
   "outputs": [
    {
     "name": "stdout",
     "output_type": "stream",
     "text": [
      "[1, 3.5, 2, 1, 1, 0]\n",
      "4\n"
     ]
    }
   ],
   "source": [
    "ss =[]\n",
    "for i in range(3):\n",
    "    ss.append(15 - sum(s[i]))\n",
    "for i in range(3):\n",
    "    ss.append(15 - sum([s[0][i],s[1][i],s[2][i]]))\n",
    "for i,x in enumerate(ss):\n",
    "    if x < 0:\n",
    "        ss[i] = abs(x)+2.5\n",
    "print(ss)\n",
    "print(int(sum(ss)/2))"
   ]
  },
  {
   "cell_type": "code",
   "execution_count": null,
   "metadata": {},
   "outputs": [],
   "source": [
    "2 1 7\n",
    "9 9 9\n",
    "4 8 6"
   ]
  },
  {
   "cell_type": "code",
   "execution_count": null,
   "metadata": {},
   "outputs": [],
   "source": [
    "s = [[2, 1, 7],\n",
    "     [9, 9, 9],\n",
    "     [4, 8, 6]]"
   ]
  },
  {
   "cell_type": "code",
   "execution_count": null,
   "metadata": {},
   "outputs": [],
   "source": []
  },
  {
   "cell_type": "code",
   "execution_count": 71,
   "metadata": {},
   "outputs": [
    {
     "data": {
      "text/plain": [
       "55"
      ]
     },
     "execution_count": 71,
     "metadata": {},
     "output_type": "execute_result"
    }
   ],
   "source": [
    "15+18+22"
   ]
  },
  {
   "cell_type": "code",
   "execution_count": null,
   "metadata": {},
   "outputs": [],
   "source": []
  },
  {
   "cell_type": "code",
   "execution_count": 73,
   "metadata": {},
   "outputs": [
    {
     "name": "stdout",
     "output_type": "stream",
     "text": [
      "Help on built-in function sum in module builtins:\n",
      "\n",
      "sum(iterable, start=0, /)\n",
      "    Return the sum of a 'start' value (default: 0) plus an iterable of numbers\n",
      "    \n",
      "    When the iterable is empty, return the start value.\n",
      "    This function is intended specifically for use with numeric values and may\n",
      "    reject non-numeric types.\n",
      "\n"
     ]
    }
   ],
   "source": [
    "help(sum)"
   ]
  },
  {
   "cell_type": "code",
   "execution_count": null,
   "metadata": {},
   "outputs": [],
   "source": []
  },
  {
   "cell_type": "code",
   "execution_count": 72,
   "metadata": {},
   "outputs": [],
   "source": [
    "s = [[2, 1, 7],\n",
    "     [9, 9, 9],\n",
    "     [4, 8, 6]]"
   ]
  },
  {
   "cell_type": "code",
   "execution_count": 85,
   "metadata": {},
   "outputs": [
    {
     "name": "stdout",
     "output_type": "stream",
     "text": [
      "20\n"
     ]
    }
   ],
   "source": [
    "r = abs(sum(s[0]) - 15) + abs(sum(s[1]) - 15) + abs(sum(s[2]) - 15)\n",
    "l = abs((s[0][0]+s[1][0]+s[2][0])-15) + abs((s[0][1]+s[1][1]+s[2][1])-15) + abs((s[0][2]+s[1][2]+s[2][2])-15)\n",
    "print(max(r,l))"
   ]
  },
  {
   "cell_type": "code",
   "execution_count": 84,
   "metadata": {},
   "outputs": [
    {
     "data": {
      "text/plain": [
       "10"
      ]
     },
     "execution_count": 84,
     "metadata": {},
     "output_type": "execute_result"
    }
   ],
   "source": [
    "l"
   ]
  },
  {
   "cell_type": "code",
   "execution_count": 86,
   "metadata": {},
   "outputs": [],
   "source": [
    "s1 = [[2, 1, 7],\n",
    "     [9, 9, 9],\n",
    "     [4, 8, 6]]\n",
    "\n",
    "s2 = [[4,8,2],\n",
    "     [4,5,7],\n",
    "     [6,1,6]]"
   ]
  },
  {
   "cell_type": "code",
   "execution_count": 88,
   "metadata": {},
   "outputs": [
    {
     "ename": "TypeError",
     "evalue": "unsupported operand type(s) for -: 'list' and 'list'",
     "output_type": "error",
     "traceback": [
      "\u001b[1;31m---------------------------------------------------------------------------\u001b[0m",
      "\u001b[1;31mTypeError\u001b[0m                                 Traceback (most recent call last)",
      "\u001b[1;32m<ipython-input-88-0b697c66ddc1>\u001b[0m in \u001b[0;36m<module>\u001b[1;34m\u001b[0m\n\u001b[1;32m----> 1\u001b[1;33m \u001b[1;33m[\u001b[0m\u001b[1;36m1\u001b[0m\u001b[1;33m,\u001b[0m\u001b[1;36m2\u001b[0m\u001b[1;33m,\u001b[0m\u001b[1;36m3\u001b[0m\u001b[1;33m]\u001b[0m \u001b[1;33m-\u001b[0m \u001b[1;33m[\u001b[0m\u001b[1;36m4\u001b[0m\u001b[1;33m,\u001b[0m\u001b[1;36m5\u001b[0m\u001b[1;33m,\u001b[0m\u001b[1;36m6\u001b[0m\u001b[1;33m]\u001b[0m\u001b[1;33m\u001b[0m\u001b[1;33m\u001b[0m\u001b[0m\n\u001b[0m",
      "\u001b[1;31mTypeError\u001b[0m: unsupported operand type(s) for -: 'list' and 'list'"
     ]
    }
   ],
   "source": []
  },
  {
   "cell_type": "code",
   "execution_count": 91,
   "metadata": {},
   "outputs": [
    {
     "data": {
      "text/plain": [
       "[1, 1]"
      ]
     },
     "execution_count": 91,
     "metadata": {},
     "output_type": "execute_result"
    }
   ],
   "source": [
    "a= [1,1,1]\n",
    "a.remove(1)\n",
    "a"
   ]
  },
  {
   "cell_type": "code",
   "execution_count": 94,
   "metadata": {},
   "outputs": [
    {
     "data": {
      "text/plain": [
       "1"
      ]
     },
     "execution_count": 94,
     "metadata": {},
     "output_type": "execute_result"
    }
   ],
   "source": [
    "max(a)"
   ]
  },
  {
   "cell_type": "code",
   "execution_count": 2,
   "metadata": {},
   "outputs": [],
   "source": [
    "def formingMagicSquare(s):\n",
    "    import sys\n",
    "    diffs = []\n",
    "\n",
    "    all_possible = [\n",
    "                [[8, 1, 6], [3, 5, 7], [4, 9, 2]],\n",
    "                [[6, 1, 8], [7, 5, 3], [2, 9, 4]],\n",
    "                [[4, 9, 2], [3, 5, 7], [8, 1, 6]],\n",
    "                [[2, 9, 4], [7, 5, 3], [6, 1, 8]], \n",
    "                [[8, 3, 4], [1, 5, 9], [6, 7, 2]],\n",
    "                [[4, 3, 8], [9, 5, 1], [2, 7, 6]], \n",
    "                [[6, 7, 2], [1, 5, 9], [8, 3, 4]], \n",
    "                [[2, 7, 6], [9, 5, 1], [4, 3, 8]],]\n",
    "\n",
    "    #compare s to each in all possible get number of differences for each to diffs\n",
    "    for possiblity in all_possible:\n",
    "        cost = 0\n",
    "        for p_row, s_row in list(zip(possiblity,s)):\n",
    "            for p_num, s_num in (list(zip(p_row, s_row))):\n",
    "                if p_num != s_num:\n",
    "                    cost += abs(p_num - s_num)\n",
    "        diffs.append(cost)\n",
    "    return(min(diffs))"
   ]
  },
  {
   "cell_type": "code",
   "execution_count": 3,
   "metadata": {},
   "outputs": [
    {
     "data": {
      "text/plain": [
       "24"
      ]
     },
     "execution_count": 3,
     "metadata": {},
     "output_type": "execute_result"
    }
   ],
   "source": [
    "s = [[1,2,3],\n",
    "     [4,5,6],\n",
    "     [7,8,9]]\n",
    "formingMagicSquare(s)"
   ]
  },
  {
   "cell_type": "code",
   "execution_count": null,
   "metadata": {},
   "outputs": [],
   "source": []
  }
 ],
 "metadata": {
  "kernelspec": {
   "display_name": "Python 3",
   "language": "python",
   "name": "python3"
  },
  "language_info": {
   "codemirror_mode": {
    "name": "ipython",
    "version": 3
   },
   "file_extension": ".py",
   "mimetype": "text/x-python",
   "name": "python",
   "nbconvert_exporter": "python",
   "pygments_lexer": "ipython3",
   "version": "3.7.3"
  }
 },
 "nbformat": 4,
 "nbformat_minor": 2
}
