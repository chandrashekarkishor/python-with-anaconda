{
 "cells": [
  {
   "cell_type": "code",
   "execution_count": null,
   "metadata": {},
   "outputs": [],
   "source": [
    "year = 1800"
   ]
  },
  {
   "cell_type": "code",
   "execution_count": null,
   "metadata": {},
   "outputs": [],
   "source": []
  },
  {
   "cell_type": "code",
   "execution_count": null,
   "metadata": {},
   "outputs": [],
   "source": [
    "def find_leap(y):\n",
    "    l=0\n",
    "    if y>1918:\n",
    "        if (year % 4) == 0:  \n",
    "           if (year % 100) == 0:  \n",
    "               if (year % 400) == 0:  \n",
    "                   l=1 \n",
    "           else:  \n",
    "               l=1\n",
    "    elif y<1918:\n",
    "        l= 1 if y%4==0 else 0\n",
    "    return l"
   ]
  },
  {
   "cell_type": "code",
   "execution_count": null,
   "metadata": {},
   "outputs": [],
   "source": [
    "if year ==1918:\n",
    "    print(\"29.09.{0}\".format(year))\n",
    "else:\n",
    "    l = find_leap(year)\n",
    "    print(\"12.09.{0}\".format(year) if l==1 else \"13.09.{0}\".format(year))"
   ]
  },
  {
   "cell_type": "code",
   "execution_count": null,
   "metadata": {},
   "outputs": [],
   "source": [
    "l=0\n",
    "if y < 1918 and y%4 == 0:\n",
    "    l = 1\n",
    "elif y>1918 and (y%400 == 0 and (y%4 == 0 or y%100 != 0)):\n",
    "    l=1\n",
    "print(l)"
   ]
  },
  {
   "cell_type": "code",
   "execution_count": null,
   "metadata": {},
   "outputs": [],
   "source": []
  },
  {
   "cell_type": "code",
   "execution_count": null,
   "metadata": {},
   "outputs": [],
   "source": [
    "def find_leap(y):\n",
    "    l=0\n",
    "    if y<1918:\n",
    "        if (year % 4) == 0:  \n",
    "           if (year % 100) == 0:  \n",
    "               if (year % 400) == 0:  \n",
    "                   l=1 \n",
    "           else:  \n",
    "               l=1\n",
    "    elif y>1918:\n",
    "        l= 1 if y%4==0 else 0\n",
    "    return l"
   ]
  },
  {
   "cell_type": "code",
   "execution_count": null,
   "metadata": {},
   "outputs": [],
   "source": []
  },
  {
   "cell_type": "code",
   "execution_count": 1,
   "metadata": {},
   "outputs": [],
   "source": [
    "def find_leap1(y):\n",
    "    l=0\n",
    "    if (y % 4) == 0:  \n",
    "       if (y % 100) == 0:  \n",
    "           if (y % 400) == 0:  \n",
    "               print(\"{0} is a leap year\".format(y))  \n",
    "           else:  \n",
    "               print(\"{0} is not a leap year\".format(y))  \n",
    "       else:  \n",
    "           print(\"{0} is a leap year\".format(y))  \n",
    "    else:  \n",
    "       print(\"{0} is not a leap year\".format(y))  "
   ]
  },
  {
   "cell_type": "code",
   "execution_count": 2,
   "metadata": {},
   "outputs": [
    {
     "name": "stdout",
     "output_type": "stream",
     "text": [
      "1800 is not a leap year\n"
     ]
    }
   ],
   "source": [
    "find_leap1(1800)"
   ]
  },
  {
   "cell_type": "code",
   "execution_count": null,
   "metadata": {},
   "outputs": [],
   "source": [
    "len(list(range(14,29)))\n"
   ]
  },
  {
   "cell_type": "code",
   "execution_count": null,
   "metadata": {},
   "outputs": [],
   "source": [
    "31+15+31+30+31+30+31+31+30"
   ]
  },
  {
   "cell_type": "code",
   "execution_count": null,
   "metadata": {},
   "outputs": [],
   "source": []
  }
 ],
 "metadata": {
  "kernelspec": {
   "display_name": "Python 3",
   "language": "python",
   "name": "python3"
  },
  "language_info": {
   "codemirror_mode": {
    "name": "ipython",
    "version": 3
   },
   "file_extension": ".py",
   "mimetype": "text/x-python",
   "name": "python",
   "nbconvert_exporter": "python",
   "pygments_lexer": "ipython3",
   "version": "3.7.3"
  }
 },
 "nbformat": 4,
 "nbformat_minor": 2
}
