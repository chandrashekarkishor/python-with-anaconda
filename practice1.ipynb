{
 "cells": [
  {
   "cell_type": "code",
   "execution_count": 25,
   "metadata": {},
   "outputs": [
    {
     "name": "stdout",
     "output_type": "stream",
     "text": [
      "5 15\n",
      "------.|.------\n",
      "---.|..|..|.---\n",
      "-----WELCOM----\n",
      "---.|..|..|.---\n",
      "------.|.------\n"
     ]
    }
   ],
   "source": [
    "n,m=map(int,input().split())\n",
    "a='.|.'\n",
    "b='-'\n",
    "c=1\n",
    "for i in range(int(n/2)):\n",
    "    print(((c)*a).center(m,b))\n",
    "    c+=2\n",
    "print (\"WELCOM\".center(m,b))\n",
    "c-=2\n",
    "for i in range (int(n/2)-1,-1,-1):\n",
    "    print(((c)*a).center(m,b))\n",
    "    c-=2"
   ]
  },
  {
   "cell_type": "code",
   "execution_count": 27,
   "metadata": {},
   "outputs": [
    {
     "data": {
      "text/plain": [
       "'Welcom----'"
      ]
     },
     "execution_count": 27,
     "metadata": {},
     "output_type": "execute_result"
    }
   ],
   "source": [
    "\"Welcom\".ljust(10,'-')"
   ]
  },
  {
   "cell_type": "code",
   "execution_count": 28,
   "metadata": {},
   "outputs": [
    {
     "data": {
      "text/plain": [
       "'----Welcom'"
      ]
     },
     "execution_count": 28,
     "metadata": {},
     "output_type": "execute_result"
    }
   ],
   "source": [
    "\"Welcom\".rjust(10,'-')"
   ]
  },
  {
   "cell_type": "code",
   "execution_count": 31,
   "metadata": {},
   "outputs": [
    {
     "data": {
      "text/plain": [
       "['ABCD', 'EFGH', 'IJKL', 'MNOP', 'QRST', 'UVWX', 'YZ']"
      ]
     },
     "execution_count": 31,
     "metadata": {},
     "output_type": "execute_result"
    }
   ],
   "source": [
    "import textwrap\n",
    "a=\"ABCDEFGHIJKLMNOPQRSTUVWXYZ\"\n",
    "textwrap.wrap(a,4)"
   ]
  },
  {
   "cell_type": "markdown",
   "metadata": {},
   "source": []
  },
  {
   "cell_type": "markdown",
   "metadata": {},
   "source": []
  },
  {
   "cell_type": "code",
   "execution_count": 59,
   "metadata": {},
   "outputs": [
    {
     "name": "stdout",
     "output_type": "stream",
     "text": [
      "17\n",
      " 1  1  1     1\n",
      " 2  2  2    10\n",
      " 3  3  3    11\n",
      " 4  4  4   100\n",
      " 5  5  5   101\n",
      " 6  6  6   110\n",
      " 7  7  7   111\n",
      " 8 10  8  1000\n",
      " 9 11  9  1001\n",
      "10 12  A  1010\n",
      "11 13  B  1011\n",
      "12 14  C  1100\n",
      "13 15  D  1101\n",
      "14 16  E  1110\n",
      "15 17  F  1111\n",
      "16 20 10 10000\n",
      "17 21 11 10001\n"
     ]
    }
   ],
   "source": [
    "def print_formatted(number):\n",
    "    if 1<=number<=99:\n",
    "        a,b=len(str(number)),len('{0:b}'.format(number))\n",
    "        for i in range(1,number+1):\n",
    "            print (\"{0:d}\".format(i).rjust(2), \"{0:o}\".format(i).rjust(2), \"{0:x}\".format(i).rjust(2).upper(), \"{0:b}\".format(i).rjust(b))\n",
    "\n",
    "if __name__ == '__main__':\n",
    "    n = int(input())\n",
    "    print_formatted(n)"
   ]
  },
  {
   "cell_type": "code",
   "execution_count": 53,
   "metadata": {},
   "outputs": [
    {
     "data": {
      "text/plain": [
       "'0b101'"
      ]
     },
     "execution_count": 53,
     "metadata": {},
     "output_type": "execute_result"
    }
   ],
   "source": [
    "bin(5)"
   ]
  },
  {
   "cell_type": "code",
   "execution_count": 1,
   "metadata": {},
   "outputs": [
    {
     "ename": "SyntaxError",
     "evalue": "invalid syntax (<ipython-input-1-d98806364384>, line 1)",
     "output_type": "error",
     "traceback": [
      "\u001b[1;36m  File \u001b[1;32m\"<ipython-input-1-d98806364384>\"\u001b[1;36m, line \u001b[1;32m1\u001b[0m\n\u001b[1;33m    print(1 if 1==0 elif 1==2 2 else 3)\u001b[0m\n\u001b[1;37m                       ^\u001b[0m\n\u001b[1;31mSyntaxError\u001b[0m\u001b[1;31m:\u001b[0m invalid syntax\n"
     ]
    }
   ],
   "source": []
  },
  {
   "cell_type": "code",
   "execution_count": 2,
   "metadata": {},
   "outputs": [
    {
     "name": "stdout",
     "output_type": "stream",
     "text": [
      "3\n"
     ]
    }
   ],
   "source": []
  },
  {
   "cell_type": "code",
   "execution_count": null,
   "metadata": {},
   "outputs": [],
   "source": []
  }
 ],
 "metadata": {
  "kernelspec": {
   "display_name": "Python 3",
   "language": "python",
   "name": "python3"
  },
  "language_info": {
   "codemirror_mode": {
    "name": "ipython",
    "version": 3
   },
   "file_extension": ".py",
   "mimetype": "text/x-python",
   "name": "python",
   "nbconvert_exporter": "python",
   "pygments_lexer": "ipython3",
   "version": "3.7.3"
  }
 },
 "nbformat": 4,
 "nbformat_minor": 2
}
