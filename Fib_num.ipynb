{
 "cells": [
  {
   "cell_type": "code",
   "execution_count": null,
   "metadata": {},
   "outputs": [],
   "source": [
    "q=int(input())\n",
    "for i in range(q):\n",
    "    *fib_num,n = map(str,input().split())\n",
    "    while((len(fib_num[-1])) < int(n) ):\n",
    "        fib_num.append(fib_num[-2] + fib_num[-1])\n",
    "    print(len(fib_num[-1]))\n",
    "    #print(fib_num[-1][int(n)-1])"
   ]
  },
  {
   "cell_type": "code",
   "execution_count": null,
   "metadata": {},
   "outputs": [],
   "source": []
  },
  {
   "cell_type": "code",
   "execution_count": null,
   "metadata": {},
   "outputs": [],
   "source": [
    "len('1415926535897932384626433832795028841971693993751058209749445923078164062862089986280348253421170679')"
   ]
  },
  {
   "cell_type": "code",
   "execution_count": null,
   "metadata": {},
   "outputs": [],
   "source": [
    "q=int(input())\n",
    "for i in range(q):\n",
    "    *fib_num,n = map(int,input().split())\n",
    "    while((fib_num[-1]) < n ):\n",
    "        fib_num.append(fib_num[-2] + fib_num[-1])\n",
    "    print(fib_num[-1])\n",
    "    #print(fib_num[-1][int(n)-1])"
   ]
  },
  {
   "cell_type": "code",
   "execution_count": null,
   "metadata": {},
   "outputs": [],
   "source": [
    "130496954492865700 - 104683731294243150"
   ]
  },
  {
   "cell_type": "code",
   "execution_count": null,
   "metadata": {},
   "outputs": [],
   "source": []
  },
  {
   "cell_type": "code",
   "execution_count": null,
   "metadata": {},
   "outputs": [],
   "source": [
    "'abcdefghijkl'[:-10]"
   ]
  },
  {
   "cell_type": "code",
   "execution_count": null,
   "metadata": {},
   "outputs": [],
   "source": []
  },
  {
   "cell_type": "code",
   "execution_count": null,
   "metadata": {},
   "outputs": [],
   "source": [
    "def fib_al(a,b,x):\n",
    "    A=['a','b']\n",
    "    \n",
    "    for i in range(x):\n",
    "        A.append(A[-2]+A[-1])\n",
    "    B=A[-1][(len(A[-2])):]\n",
    "    c=''\n",
    "    for i in B:\n",
    "        if i=='a':\n",
    "            c+=a\n",
    "        else:\n",
    "            c+=b\n",
    "    return c    \n",
    "\n",
    "def get_index(l,N):\n",
    "    while N>l:\n",
    "        N-=l\n",
    "    return N\n",
    "        \n",
    "\n",
    "q=int(input())\n",
    "for i in range(q):\n",
    "    a,b,n = input().split()\n",
    "    c=''\n",
    "    cnt=0\n",
    "    n=int(n)\n",
    "    ab=a+b\n",
    "    z = fib_al(a,b,(n//len(a)))\n",
    "    #print(z[(n%len(a))-1])\n",
    "    \n",
    "        \n",
    "    "
   ]
  },
  {
   "cell_type": "code",
   "execution_count": null,
   "metadata": {},
   "outputs": [],
   "source": [
    "v = str((104683731294243150 / 100)).split('.')\n",
    "print(type(v[1]))"
   ]
  },
  {
   "cell_type": "code",
   "execution_count": null,
   "metadata": {},
   "outputs": [],
   "source": [
    "abb = int(1046837312942431.5)\n",
    "abb %2"
   ]
  },
  {
   "cell_type": "code",
   "execution_count": null,
   "metadata": {},
   "outputs": [],
   "source": [
    "a='abc'\n",
    "print(obj(a[0]))"
   ]
  },
  {
   "cell_type": "code",
   "execution_count": null,
   "metadata": {},
   "outputs": [],
   "source": []
  },
  {
   "cell_type": "code",
   "execution_count": 3,
   "metadata": {},
   "outputs": [
    {
     "name": "stdout",
     "output_type": "stream",
     "text": [
      "1\n",
      "5 6 3\n",
      "6\n"
     ]
    }
   ],
   "source": [
    "def findlengthofterm(n):\n",
    "    if n == 1:\n",
    "        return len(A)\n",
    "    elif n==2:\n",
    "        return len(B)\n",
    "\n",
    "    a=len(A)\n",
    "    b=len(B)\n",
    "    c=0\n",
    "    i=2\n",
    "    while(i<n):\n",
    "        c= a+b\n",
    "        a,b=b,c\n",
    "        i+=1\n",
    "    return c\n",
    "\n",
    "def findIndex(n) : \n",
    "      \n",
    "    if (n <= 1) : \n",
    "        return n \n",
    "   \n",
    "    a = len(A)\n",
    "    b = len(B)\n",
    "    c = 0\n",
    "    res = 2\n",
    "\n",
    "    while (c < n) : \n",
    "        c = a + b            \n",
    "        res = res + 1\n",
    "        a = b \n",
    "        b = c \n",
    "          \n",
    "    return res\n",
    "\n",
    "if __name__=='__main__':    \n",
    "    num = int(input())\n",
    "    output =[]\n",
    "    for i in range(num):\n",
    "        A,B, x = input().split()\n",
    "        s=int(x)\n",
    "        n=findIndex(s)\n",
    "        a=s\n",
    "        while(n > 2):\n",
    "            l=findlengthofterm(n-2)\n",
    "            if a>l:\n",
    "                a=a-l\n",
    "            else:\n",
    "                n-=1\n",
    "            n-=1\n",
    "\n",
    "        if n==1:\n",
    "            output.append(A[a-1])\n",
    "        else:\n",
    "            output.append(B[a-1])\n",
    "\n",
    "    for out in output:\n",
    "        print(out)"
   ]
  },
  {
   "cell_type": "code",
   "execution_count": 17,
   "metadata": {},
   "outputs": [
    {
     "data": {
      "text/plain": [
       "1046837312942431"
      ]
     },
     "execution_count": 17,
     "metadata": {},
     "output_type": "execute_result"
    }
   ],
   "source": [
    "abs(104683731294243150//100)"
   ]
  },
  {
   "cell_type": "markdown",
   "metadata": {
    "scrolled": true
   },
   "source": [
    "1415926535 8979323846 35\n",
    "1415926535897932384626433832795028841971693993751058209749445923078164062862089986280348253421170679 8214808651328230664709384460955058223172535940812848111745028410270193852110555964462294895493038196 104683731294243150"
   ]
  },
  {
   "cell_type": "code",
   "execution_count": null,
   "metadata": {},
   "outputs": [],
   "source": []
  },
  {
   "cell_type": "code",
   "execution_count": null,
   "metadata": {},
   "outputs": [],
   "source": []
  },
  {
   "cell_type": "code",
   "execution_count": null,
   "metadata": {},
   "outputs": [],
   "source": []
  },
  {
   "cell_type": "code",
   "execution_count": null,
   "metadata": {},
   "outputs": [],
   "source": []
  },
  {
   "cell_type": "code",
   "execution_count": null,
   "metadata": {},
   "outputs": [],
   "source": []
  },
  {
   "cell_type": "code",
   "execution_count": null,
   "metadata": {},
   "outputs": [],
   "source": []
  },
  {
   "cell_type": "code",
   "execution_count": null,
   "metadata": {},
   "outputs": [],
   "source": []
  }
 ],
 "metadata": {
  "kernelspec": {
   "display_name": "Python 3",
   "language": "python",
   "name": "python3"
  },
  "language_info": {
   "codemirror_mode": {
    "name": "ipython",
    "version": 3
   },
   "file_extension": ".py",
   "mimetype": "text/x-python",
   "name": "python",
   "nbconvert_exporter": "python",
   "pygments_lexer": "ipython3",
   "version": "3.7.3"
  }
 },
 "nbformat": 4,
 "nbformat_minor": 2
}
